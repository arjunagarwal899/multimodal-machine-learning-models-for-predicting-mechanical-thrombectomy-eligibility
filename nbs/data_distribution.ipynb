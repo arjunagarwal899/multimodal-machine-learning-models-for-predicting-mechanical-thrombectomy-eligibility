{
 "cells": [
  {
   "cell_type": "code",
   "execution_count": 1,
   "id": "c888964d",
   "metadata": {},
   "outputs": [],
   "source": [
    "from mt_eligibility.load import load_and_combine_csvs"
   ]
  },
  {
   "cell_type": "markdown",
   "id": "f96a233e",
   "metadata": {},
   "source": [
    "# Load all data"
   ]
  },
  {
   "cell_type": "code",
   "execution_count": null,
   "id": "f408168e",
   "metadata": {},
   "outputs": [
    {
     "data": {
      "text/html": [
       "<pre style=\"white-space:pre;overflow-x:auto;line-height:normal;font-family:Menlo,'DejaVu Sans Mono',consolas,'Courier New',monospace\"></pre>\n"
      ],
      "text/plain": []
     },
     "metadata": {},
     "output_type": "display_data"
    },
    {
     "data": {
      "text/html": [
       "<div>\n",
       "<style scoped>\n",
       "    .dataframe tbody tr th:only-of-type {\n",
       "        vertical-align: middle;\n",
       "    }\n",
       "\n",
       "    .dataframe tbody tr th {\n",
       "        vertical-align: top;\n",
       "    }\n",
       "\n",
       "    .dataframe thead th {\n",
       "        text-align: right;\n",
       "    }\n",
       "</style>\n",
       "<table border=\"1\" class=\"dataframe\">\n",
       "  <thead>\n",
       "    <tr style=\"text-align: right;\">\n",
       "      <th></th>\n",
       "      <th>ID</th>\n",
       "      <th>Age</th>\n",
       "      <th>Sex</th>\n",
       "      <th>NIHSS</th>\n",
       "      <th>LKWT</th>\n",
       "      <th>LVO</th>\n",
       "      <th>MT</th>\n",
       "      <th>Dataset</th>\n",
       "    </tr>\n",
       "  </thead>\n",
       "  <tbody>\n",
       "    <tr>\n",
       "      <th>0</th>\n",
       "      <td>36aa9c237f40b8a3c78b0fc2d0efabc0</td>\n",
       "      <td>64</td>\n",
       "      <td>Male</td>\n",
       "      <td>14</td>\n",
       "      <td>0.900000</td>\n",
       "      <td>False</td>\n",
       "      <td>False</td>\n",
       "      <td>train</td>\n",
       "    </tr>\n",
       "    <tr>\n",
       "      <th>1</th>\n",
       "      <td>0846f0aa92510261fc9a43753c9200e9</td>\n",
       "      <td>78</td>\n",
       "      <td>Female</td>\n",
       "      <td>5</td>\n",
       "      <td>4.550000</td>\n",
       "      <td>True</td>\n",
       "      <td>False</td>\n",
       "      <td>train</td>\n",
       "    </tr>\n",
       "    <tr>\n",
       "      <th>2</th>\n",
       "      <td>a7d5017833ac10e3ce5e0c4200a10bb8</td>\n",
       "      <td>36</td>\n",
       "      <td>Female</td>\n",
       "      <td>6</td>\n",
       "      <td>3.033333</td>\n",
       "      <td>True</td>\n",
       "      <td>True</td>\n",
       "      <td>train</td>\n",
       "    </tr>\n",
       "    <tr>\n",
       "      <th>3</th>\n",
       "      <td>87466cdef2e6832055c41559bcb059c4</td>\n",
       "      <td>105</td>\n",
       "      <td>Female</td>\n",
       "      <td>18</td>\n",
       "      <td>13.633333</td>\n",
       "      <td>True</td>\n",
       "      <td>False</td>\n",
       "      <td>train</td>\n",
       "    </tr>\n",
       "    <tr>\n",
       "      <th>4</th>\n",
       "      <td>d8ee8882764de37287536521e6861577</td>\n",
       "      <td>93</td>\n",
       "      <td>Male</td>\n",
       "      <td>19</td>\n",
       "      <td>6.666667</td>\n",
       "      <td>True</td>\n",
       "      <td>True</td>\n",
       "      <td>train</td>\n",
       "    </tr>\n",
       "  </tbody>\n",
       "</table>\n",
       "</div>"
      ],
      "text/plain": [
       "\n",
       "                                 ID  Age     Sex  NIHSS       LKWT    LVO  \\\n",
       "\u001b[1;36m0\u001b[0m  36aa9c237f40b8a3c78b0fc2d0efabc0   \u001b[1;36m64\u001b[0m    Male     \u001b[1;36m14\u001b[0m   \u001b[1;36m0.900000\u001b[0m  \u001b[3;91mFalse\u001b[0m   \n",
       "\u001b[1;36m1\u001b[0m  0846f0aa92510261fc9a43753c9200e9   \u001b[1;36m78\u001b[0m  Female      \u001b[1;36m5\u001b[0m   \u001b[1;36m4.550000\u001b[0m   \u001b[3;92mTrue\u001b[0m   \n",
       "\u001b[1;36m2\u001b[0m  a7d5017833ac10e3ce5e0c4200a10bb8   \u001b[1;36m36\u001b[0m  Female      \u001b[1;36m6\u001b[0m   \u001b[1;36m3.033333\u001b[0m   \u001b[3;92mTrue\u001b[0m   \n",
       "\u001b[1;36m3\u001b[0m  87466cdef2e6832055c41559bcb059c4  \u001b[1;36m105\u001b[0m  Female     \u001b[1;36m18\u001b[0m  \u001b[1;36m13.633333\u001b[0m   \u001b[3;92mTrue\u001b[0m   \n",
       "\u001b[1;36m4\u001b[0m  d8ee8882764de37287536521e6861577   \u001b[1;36m93\u001b[0m    Male     \u001b[1;36m19\u001b[0m   \u001b[1;36m6.666667\u001b[0m   \u001b[3;92mTrue\u001b[0m   \n",
       "\n",
       "      MT Dataset  \n",
       "\u001b[1;36m0\u001b[0m  \u001b[3;91mFalse\u001b[0m   train  \n",
       "\u001b[1;36m1\u001b[0m  \u001b[3;91mFalse\u001b[0m   train  \n",
       "\u001b[1;36m2\u001b[0m   \u001b[3;92mTrue\u001b[0m   train  \n",
       "\u001b[1;36m3\u001b[0m  \u001b[3;91mFalse\u001b[0m   train  \n",
       "\u001b[1;36m4\u001b[0m   \u001b[3;92mTrue\u001b[0m   train  "
      ]
     },
     "execution_count": 2,
     "metadata": {},
     "output_type": "execute_result"
    }
   ],
   "source": [
    "csv = load_and_combine_csvs([\"master\", \"data_split\"])\n",
    "csv.head()"
   ]
  },
  {
   "cell_type": "markdown",
   "id": "a15f6981",
   "metadata": {},
   "source": [
    "# Train-Test distribution"
   ]
  },
  {
   "cell_type": "code",
   "execution_count": null,
   "id": "34f1c165",
   "metadata": {},
   "outputs": [
    {
     "data": {
      "text/html": [
       "<pre style=\"white-space:pre;overflow-x:auto;line-height:normal;font-family:Menlo,'DejaVu Sans Mono',consolas,'Courier New',monospace\"></pre>\n"
      ],
      "text/plain": []
     },
     "metadata": {},
     "output_type": "display_data"
    },
    {
     "data": {
      "text/plain": [
       "\n",
       "Dataset\n",
       "test     \u001b[1;36m130\u001b[0m\n",
       "train    \u001b[1;36m130\u001b[0m\n",
       "Name: count, dtype: int64"
      ]
     },
     "execution_count": 3,
     "metadata": {},
     "output_type": "execute_result"
    }
   ],
   "source": [
    "csv[\"Dataset\"].value_counts().sort_index()"
   ]
  },
  {
   "cell_type": "markdown",
   "id": "183571d0",
   "metadata": {},
   "source": [
    "# MT Eligibility Distribution"
   ]
  },
  {
   "cell_type": "code",
   "execution_count": null,
   "id": "f2174889",
   "metadata": {},
   "outputs": [
    {
     "data": {
      "text/html": [
       "<pre style=\"white-space:pre;overflow-x:auto;line-height:normal;font-family:Menlo,'DejaVu Sans Mono',consolas,'Courier New',monospace\"></pre>\n"
      ],
      "text/plain": []
     },
     "metadata": {},
     "output_type": "display_data"
    },
    {
     "data": {
      "text/plain": [
       "\n",
       "Dataset  MT   \n",
       "test     \u001b[3;91mFalse\u001b[0m    \u001b[1;36m50\u001b[0m\n",
       "         \u001b[3;92mTrue\u001b[0m     \u001b[1;36m80\u001b[0m\n",
       "train    \u001b[3;91mFalse\u001b[0m    \u001b[1;36m50\u001b[0m\n",
       "         \u001b[3;92mTrue\u001b[0m     \u001b[1;36m80\u001b[0m\n",
       "Name: count, dtype: int64"
      ]
     },
     "execution_count": 4,
     "metadata": {},
     "output_type": "execute_result"
    }
   ],
   "source": [
    "csv[[\"Dataset\", \"MT\"]].value_counts().sort_index()"
   ]
  },
  {
   "cell_type": "markdown",
   "id": "6d1daed6",
   "metadata": {},
   "source": [
    "# Age distribution"
   ]
  },
  {
   "cell_type": "code",
   "execution_count": null,
   "id": "5f425c9c",
   "metadata": {},
   "outputs": [
    {
     "data": {
      "text/html": [
       "<pre style=\"white-space:pre;overflow-x:auto;line-height:normal;font-family:Menlo,'DejaVu Sans Mono',consolas,'Courier New',monospace\"></pre>\n"
      ],
      "text/plain": []
     },
     "metadata": {},
     "output_type": "display_data"
    },
    {
     "data": {
      "text/html": [
       "<div>\n",
       "<style scoped>\n",
       "    .dataframe tbody tr th:only-of-type {\n",
       "        vertical-align: middle;\n",
       "    }\n",
       "\n",
       "    .dataframe tbody tr th {\n",
       "        vertical-align: top;\n",
       "    }\n",
       "\n",
       "    .dataframe thead th {\n",
       "        text-align: right;\n",
       "    }\n",
       "</style>\n",
       "<table border=\"1\" class=\"dataframe\">\n",
       "  <thead>\n",
       "    <tr style=\"text-align: right;\">\n",
       "      <th></th>\n",
       "      <th>count</th>\n",
       "      <th>mean</th>\n",
       "      <th>std</th>\n",
       "      <th>min</th>\n",
       "      <th>25%</th>\n",
       "      <th>50%</th>\n",
       "      <th>75%</th>\n",
       "      <th>max</th>\n",
       "    </tr>\n",
       "    <tr>\n",
       "      <th>Dataset</th>\n",
       "      <th></th>\n",
       "      <th></th>\n",
       "      <th></th>\n",
       "      <th></th>\n",
       "      <th></th>\n",
       "      <th></th>\n",
       "      <th></th>\n",
       "      <th></th>\n",
       "    </tr>\n",
       "  </thead>\n",
       "  <tbody>\n",
       "    <tr>\n",
       "      <th>test</th>\n",
       "      <td>130.0</td>\n",
       "      <td>67.376923</td>\n",
       "      <td>14.187704</td>\n",
       "      <td>33.0</td>\n",
       "      <td>59.25</td>\n",
       "      <td>67.5</td>\n",
       "      <td>77.00</td>\n",
       "      <td>97.0</td>\n",
       "    </tr>\n",
       "    <tr>\n",
       "      <th>train</th>\n",
       "      <td>130.0</td>\n",
       "      <td>66.438462</td>\n",
       "      <td>17.007980</td>\n",
       "      <td>20.0</td>\n",
       "      <td>57.00</td>\n",
       "      <td>68.0</td>\n",
       "      <td>77.75</td>\n",
       "      <td>105.0</td>\n",
       "    </tr>\n",
       "  </tbody>\n",
       "</table>\n",
       "</div>"
      ],
      "text/plain": [
       "\n",
       "         count       mean        std   min    \u001b[1;36m25\u001b[0m%   \u001b[1;36m50\u001b[0m%    \u001b[1;36m75\u001b[0m%    max\n",
       "Dataset                                                              \n",
       "test     \u001b[1;36m130.0\u001b[0m  \u001b[1;36m67.376923\u001b[0m  \u001b[1;36m14.187704\u001b[0m  \u001b[1;36m33.0\u001b[0m  \u001b[1;36m59.25\u001b[0m  \u001b[1;36m67.5\u001b[0m  \u001b[1;36m77.00\u001b[0m   \u001b[1;36m97.0\u001b[0m\n",
       "train    \u001b[1;36m130.0\u001b[0m  \u001b[1;36m66.438462\u001b[0m  \u001b[1;36m17.007980\u001b[0m  \u001b[1;36m20.0\u001b[0m  \u001b[1;36m57.00\u001b[0m  \u001b[1;36m68.0\u001b[0m  \u001b[1;36m77.75\u001b[0m  \u001b[1;36m105.0\u001b[0m"
      ]
     },
     "execution_count": 5,
     "metadata": {},
     "output_type": "execute_result"
    }
   ],
   "source": [
    "csv.groupby([\"Dataset\"])[\"Age\"].describe()"
   ]
  },
  {
   "cell_type": "code",
   "execution_count": null,
   "id": "061afe0e",
   "metadata": {},
   "outputs": [
    {
     "data": {
      "text/html": [
       "<pre style=\"white-space:pre;overflow-x:auto;line-height:normal;font-family:Menlo,'DejaVu Sans Mono',consolas,'Courier New',monospace\"></pre>\n"
      ],
      "text/plain": []
     },
     "metadata": {},
     "output_type": "display_data"
    },
    {
     "data": {
      "text/html": [
       "<div>\n",
       "<style scoped>\n",
       "    .dataframe tbody tr th:only-of-type {\n",
       "        vertical-align: middle;\n",
       "    }\n",
       "\n",
       "    .dataframe tbody tr th {\n",
       "        vertical-align: top;\n",
       "    }\n",
       "\n",
       "    .dataframe thead th {\n",
       "        text-align: right;\n",
       "    }\n",
       "</style>\n",
       "<table border=\"1\" class=\"dataframe\">\n",
       "  <thead>\n",
       "    <tr style=\"text-align: right;\">\n",
       "      <th></th>\n",
       "      <th></th>\n",
       "      <th>count</th>\n",
       "      <th>mean</th>\n",
       "      <th>std</th>\n",
       "      <th>min</th>\n",
       "      <th>25%</th>\n",
       "      <th>50%</th>\n",
       "      <th>75%</th>\n",
       "      <th>max</th>\n",
       "    </tr>\n",
       "    <tr>\n",
       "      <th>Dataset</th>\n",
       "      <th>MT</th>\n",
       "      <th></th>\n",
       "      <th></th>\n",
       "      <th></th>\n",
       "      <th></th>\n",
       "      <th></th>\n",
       "      <th></th>\n",
       "      <th></th>\n",
       "      <th></th>\n",
       "    </tr>\n",
       "  </thead>\n",
       "  <tbody>\n",
       "    <tr>\n",
       "      <th rowspan=\"2\" valign=\"top\">test</th>\n",
       "      <th>False</th>\n",
       "      <td>50.0</td>\n",
       "      <td>69.5600</td>\n",
       "      <td>13.398386</td>\n",
       "      <td>33.0</td>\n",
       "      <td>61.00</td>\n",
       "      <td>69.0</td>\n",
       "      <td>77.50</td>\n",
       "      <td>97.0</td>\n",
       "    </tr>\n",
       "    <tr>\n",
       "      <th>True</th>\n",
       "      <td>80.0</td>\n",
       "      <td>66.0125</td>\n",
       "      <td>14.575420</td>\n",
       "      <td>34.0</td>\n",
       "      <td>56.75</td>\n",
       "      <td>67.0</td>\n",
       "      <td>77.00</td>\n",
       "      <td>91.0</td>\n",
       "    </tr>\n",
       "    <tr>\n",
       "      <th rowspan=\"2\" valign=\"top\">train</th>\n",
       "      <th>False</th>\n",
       "      <td>50.0</td>\n",
       "      <td>63.8400</td>\n",
       "      <td>19.645179</td>\n",
       "      <td>20.0</td>\n",
       "      <td>55.00</td>\n",
       "      <td>67.0</td>\n",
       "      <td>75.75</td>\n",
       "      <td>105.0</td>\n",
       "    </tr>\n",
       "    <tr>\n",
       "      <th>True</th>\n",
       "      <td>80.0</td>\n",
       "      <td>68.0625</td>\n",
       "      <td>15.034428</td>\n",
       "      <td>23.0</td>\n",
       "      <td>58.50</td>\n",
       "      <td>68.5</td>\n",
       "      <td>78.00</td>\n",
       "      <td>94.0</td>\n",
       "    </tr>\n",
       "  </tbody>\n",
       "</table>\n",
       "</div>"
      ],
      "text/plain": [
       "\n",
       "               count     mean        std   min    \u001b[1;36m25\u001b[0m%   \u001b[1;36m50\u001b[0m%    \u001b[1;36m75\u001b[0m%    max\n",
       "Dataset MT                                                               \n",
       "test    \u001b[3;91mFalse\u001b[0m   \u001b[1;36m50.0\u001b[0m  \u001b[1;36m69.5600\u001b[0m  \u001b[1;36m13.398386\u001b[0m  \u001b[1;36m33.0\u001b[0m  \u001b[1;36m61.00\u001b[0m  \u001b[1;36m69.0\u001b[0m  \u001b[1;36m77.50\u001b[0m   \u001b[1;36m97.0\u001b[0m\n",
       "        \u001b[3;92mTrue\u001b[0m    \u001b[1;36m80.0\u001b[0m  \u001b[1;36m66.0125\u001b[0m  \u001b[1;36m14.575420\u001b[0m  \u001b[1;36m34.0\u001b[0m  \u001b[1;36m56.75\u001b[0m  \u001b[1;36m67.0\u001b[0m  \u001b[1;36m77.00\u001b[0m   \u001b[1;36m91.0\u001b[0m\n",
       "train   \u001b[3;91mFalse\u001b[0m   \u001b[1;36m50.0\u001b[0m  \u001b[1;36m63.8400\u001b[0m  \u001b[1;36m19.645179\u001b[0m  \u001b[1;36m20.0\u001b[0m  \u001b[1;36m55.00\u001b[0m  \u001b[1;36m67.0\u001b[0m  \u001b[1;36m75.75\u001b[0m  \u001b[1;36m105.0\u001b[0m\n",
       "        \u001b[3;92mTrue\u001b[0m    \u001b[1;36m80.0\u001b[0m  \u001b[1;36m68.0625\u001b[0m  \u001b[1;36m15.034428\u001b[0m  \u001b[1;36m23.0\u001b[0m  \u001b[1;36m58.50\u001b[0m  \u001b[1;36m68.5\u001b[0m  \u001b[1;36m78.00\u001b[0m   \u001b[1;36m94.0\u001b[0m"
      ]
     },
     "execution_count": 6,
     "metadata": {},
     "output_type": "execute_result"
    }
   ],
   "source": [
    "csv.groupby([\"Dataset\", \"MT\"])[\"Age\"].describe()"
   ]
  },
  {
   "cell_type": "markdown",
   "id": "da2c09b5",
   "metadata": {},
   "source": [
    "# Sex distribution"
   ]
  },
  {
   "cell_type": "code",
   "execution_count": null,
   "id": "174c0052",
   "metadata": {},
   "outputs": [
    {
     "data": {
      "text/html": [
       "<pre style=\"white-space:pre;overflow-x:auto;line-height:normal;font-family:Menlo,'DejaVu Sans Mono',consolas,'Courier New',monospace\"></pre>\n"
      ],
      "text/plain": []
     },
     "metadata": {},
     "output_type": "display_data"
    },
    {
     "data": {
      "text/plain": [
       "\n",
       "Dataset  Sex   \n",
       "test     Female    \u001b[1;36m69\u001b[0m\n",
       "         Male      \u001b[1;36m61\u001b[0m\n",
       "train    Female    \u001b[1;36m56\u001b[0m\n",
       "         Male      \u001b[1;36m74\u001b[0m\n",
       "Name: count, dtype: int64"
      ]
     },
     "execution_count": 7,
     "metadata": {},
     "output_type": "execute_result"
    }
   ],
   "source": [
    "csv[[\"Dataset\", \"Sex\"]].value_counts().sort_index()"
   ]
  },
  {
   "cell_type": "code",
   "execution_count": null,
   "id": "f8d98566",
   "metadata": {},
   "outputs": [
    {
     "data": {
      "text/html": [
       "<pre style=\"white-space:pre;overflow-x:auto;line-height:normal;font-family:Menlo,'DejaVu Sans Mono',consolas,'Courier New',monospace\"></pre>\n"
      ],
      "text/plain": []
     },
     "metadata": {},
     "output_type": "display_data"
    },
    {
     "data": {
      "text/plain": [
       "\n",
       "Dataset  MT     Sex   \n",
       "test     \u001b[3;91mFalse\u001b[0m  Female    \u001b[1;36m29\u001b[0m\n",
       "                Male      \u001b[1;36m21\u001b[0m\n",
       "         \u001b[3;92mTrue\u001b[0m   Female    \u001b[1;36m40\u001b[0m\n",
       "                Male      \u001b[1;36m40\u001b[0m\n",
       "train    \u001b[3;91mFalse\u001b[0m  Female    \u001b[1;36m21\u001b[0m\n",
       "                Male      \u001b[1;36m29\u001b[0m\n",
       "         \u001b[3;92mTrue\u001b[0m   Female    \u001b[1;36m35\u001b[0m\n",
       "                Male      \u001b[1;36m45\u001b[0m\n",
       "Name: count, dtype: int64"
      ]
     },
     "execution_count": 8,
     "metadata": {},
     "output_type": "execute_result"
    }
   ],
   "source": [
    "csv[[\"Dataset\", \"MT\", \"Sex\"]].value_counts().sort_index()"
   ]
  },
  {
   "cell_type": "markdown",
   "id": "d9c0156a",
   "metadata": {},
   "source": [
    "# NIHSS Distribution"
   ]
  },
  {
   "cell_type": "code",
   "execution_count": null,
   "id": "0d2d233e",
   "metadata": {},
   "outputs": [
    {
     "data": {
      "text/html": [
       "<pre style=\"white-space:pre;overflow-x:auto;line-height:normal;font-family:Menlo,'DejaVu Sans Mono',consolas,'Courier New',monospace\"></pre>\n"
      ],
      "text/plain": []
     },
     "metadata": {},
     "output_type": "display_data"
    },
    {
     "data": {
      "text/html": [
       "<div>\n",
       "<style scoped>\n",
       "    .dataframe tbody tr th:only-of-type {\n",
       "        vertical-align: middle;\n",
       "    }\n",
       "\n",
       "    .dataframe tbody tr th {\n",
       "        vertical-align: top;\n",
       "    }\n",
       "\n",
       "    .dataframe thead th {\n",
       "        text-align: right;\n",
       "    }\n",
       "</style>\n",
       "<table border=\"1\" class=\"dataframe\">\n",
       "  <thead>\n",
       "    <tr style=\"text-align: right;\">\n",
       "      <th></th>\n",
       "      <th>count</th>\n",
       "      <th>mean</th>\n",
       "      <th>std</th>\n",
       "      <th>min</th>\n",
       "      <th>25%</th>\n",
       "      <th>50%</th>\n",
       "      <th>75%</th>\n",
       "      <th>max</th>\n",
       "    </tr>\n",
       "    <tr>\n",
       "      <th>Dataset</th>\n",
       "      <th></th>\n",
       "      <th></th>\n",
       "      <th></th>\n",
       "      <th></th>\n",
       "      <th></th>\n",
       "      <th></th>\n",
       "      <th></th>\n",
       "      <th></th>\n",
       "    </tr>\n",
       "  </thead>\n",
       "  <tbody>\n",
       "    <tr>\n",
       "      <th>test</th>\n",
       "      <td>130.0</td>\n",
       "      <td>11.746154</td>\n",
       "      <td>7.959502</td>\n",
       "      <td>0.0</td>\n",
       "      <td>5.00</td>\n",
       "      <td>11.5</td>\n",
       "      <td>18.00</td>\n",
       "      <td>31.0</td>\n",
       "    </tr>\n",
       "    <tr>\n",
       "      <th>train</th>\n",
       "      <td>130.0</td>\n",
       "      <td>11.246154</td>\n",
       "      <td>6.626306</td>\n",
       "      <td>0.0</td>\n",
       "      <td>6.25</td>\n",
       "      <td>12.0</td>\n",
       "      <td>15.75</td>\n",
       "      <td>34.0</td>\n",
       "    </tr>\n",
       "  </tbody>\n",
       "</table>\n",
       "</div>"
      ],
      "text/plain": [
       "\n",
       "         count       mean       std  min   \u001b[1;36m25\u001b[0m%   \u001b[1;36m50\u001b[0m%    \u001b[1;36m75\u001b[0m%   max\n",
       "Dataset                                                          \n",
       "test     \u001b[1;36m130.0\u001b[0m  \u001b[1;36m11.746154\u001b[0m  \u001b[1;36m7.959502\u001b[0m  \u001b[1;36m0.0\u001b[0m  \u001b[1;36m5.00\u001b[0m  \u001b[1;36m11.5\u001b[0m  \u001b[1;36m18.00\u001b[0m  \u001b[1;36m31.0\u001b[0m\n",
       "train    \u001b[1;36m130.0\u001b[0m  \u001b[1;36m11.246154\u001b[0m  \u001b[1;36m6.626306\u001b[0m  \u001b[1;36m0.0\u001b[0m  \u001b[1;36m6.25\u001b[0m  \u001b[1;36m12.0\u001b[0m  \u001b[1;36m15.75\u001b[0m  \u001b[1;36m34.0\u001b[0m"
      ]
     },
     "execution_count": 9,
     "metadata": {},
     "output_type": "execute_result"
    }
   ],
   "source": [
    "csv.groupby([\"Dataset\"])[\"NIHSS\"].describe()"
   ]
  },
  {
   "cell_type": "code",
   "execution_count": null,
   "id": "6e83dfae",
   "metadata": {},
   "outputs": [
    {
     "data": {
      "text/html": [
       "<pre style=\"white-space:pre;overflow-x:auto;line-height:normal;font-family:Menlo,'DejaVu Sans Mono',consolas,'Courier New',monospace\"></pre>\n"
      ],
      "text/plain": []
     },
     "metadata": {},
     "output_type": "display_data"
    },
    {
     "data": {
      "text/html": [
       "<div>\n",
       "<style scoped>\n",
       "    .dataframe tbody tr th:only-of-type {\n",
       "        vertical-align: middle;\n",
       "    }\n",
       "\n",
       "    .dataframe tbody tr th {\n",
       "        vertical-align: top;\n",
       "    }\n",
       "\n",
       "    .dataframe thead th {\n",
       "        text-align: right;\n",
       "    }\n",
       "</style>\n",
       "<table border=\"1\" class=\"dataframe\">\n",
       "  <thead>\n",
       "    <tr style=\"text-align: right;\">\n",
       "      <th></th>\n",
       "      <th></th>\n",
       "      <th>count</th>\n",
       "      <th>mean</th>\n",
       "      <th>std</th>\n",
       "      <th>min</th>\n",
       "      <th>25%</th>\n",
       "      <th>50%</th>\n",
       "      <th>75%</th>\n",
       "      <th>max</th>\n",
       "    </tr>\n",
       "    <tr>\n",
       "      <th>Dataset</th>\n",
       "      <th>MT</th>\n",
       "      <th></th>\n",
       "      <th></th>\n",
       "      <th></th>\n",
       "      <th></th>\n",
       "      <th></th>\n",
       "      <th></th>\n",
       "      <th></th>\n",
       "      <th></th>\n",
       "    </tr>\n",
       "  </thead>\n",
       "  <tbody>\n",
       "    <tr>\n",
       "      <th rowspan=\"2\" valign=\"top\">test</th>\n",
       "      <th>False</th>\n",
       "      <td>50.0</td>\n",
       "      <td>8.100</td>\n",
       "      <td>8.038809</td>\n",
       "      <td>0.0</td>\n",
       "      <td>2.00</td>\n",
       "      <td>5.0</td>\n",
       "      <td>15.5</td>\n",
       "      <td>25.0</td>\n",
       "    </tr>\n",
       "    <tr>\n",
       "      <th>True</th>\n",
       "      <td>80.0</td>\n",
       "      <td>14.025</td>\n",
       "      <td>7.049508</td>\n",
       "      <td>2.0</td>\n",
       "      <td>8.00</td>\n",
       "      <td>14.0</td>\n",
       "      <td>18.0</td>\n",
       "      <td>31.0</td>\n",
       "    </tr>\n",
       "    <tr>\n",
       "      <th rowspan=\"2\" valign=\"top\">train</th>\n",
       "      <th>False</th>\n",
       "      <td>50.0</td>\n",
       "      <td>7.880</td>\n",
       "      <td>6.665905</td>\n",
       "      <td>0.0</td>\n",
       "      <td>2.25</td>\n",
       "      <td>6.0</td>\n",
       "      <td>14.0</td>\n",
       "      <td>24.0</td>\n",
       "    </tr>\n",
       "    <tr>\n",
       "      <th>True</th>\n",
       "      <td>80.0</td>\n",
       "      <td>13.350</td>\n",
       "      <td>5.699434</td>\n",
       "      <td>0.0</td>\n",
       "      <td>10.00</td>\n",
       "      <td>14.0</td>\n",
       "      <td>17.0</td>\n",
       "      <td>34.0</td>\n",
       "    </tr>\n",
       "  </tbody>\n",
       "</table>\n",
       "</div>"
      ],
      "text/plain": [
       "\n",
       "               count    mean       std  min    \u001b[1;36m25\u001b[0m%   \u001b[1;36m50\u001b[0m%   \u001b[1;36m75\u001b[0m%   max\n",
       "Dataset MT                                                          \n",
       "test    \u001b[3;91mFalse\u001b[0m   \u001b[1;36m50.0\u001b[0m   \u001b[1;36m8.100\u001b[0m  \u001b[1;36m8.038809\u001b[0m  \u001b[1;36m0.0\u001b[0m   \u001b[1;36m2.00\u001b[0m   \u001b[1;36m5.0\u001b[0m  \u001b[1;36m15.5\u001b[0m  \u001b[1;36m25.0\u001b[0m\n",
       "        \u001b[3;92mTrue\u001b[0m    \u001b[1;36m80.0\u001b[0m  \u001b[1;36m14.025\u001b[0m  \u001b[1;36m7.049508\u001b[0m  \u001b[1;36m2.0\u001b[0m   \u001b[1;36m8.00\u001b[0m  \u001b[1;36m14.0\u001b[0m  \u001b[1;36m18.0\u001b[0m  \u001b[1;36m31.0\u001b[0m\n",
       "train   \u001b[3;91mFalse\u001b[0m   \u001b[1;36m50.0\u001b[0m   \u001b[1;36m7.880\u001b[0m  \u001b[1;36m6.665905\u001b[0m  \u001b[1;36m0.0\u001b[0m   \u001b[1;36m2.25\u001b[0m   \u001b[1;36m6.0\u001b[0m  \u001b[1;36m14.0\u001b[0m  \u001b[1;36m24.0\u001b[0m\n",
       "        \u001b[3;92mTrue\u001b[0m    \u001b[1;36m80.0\u001b[0m  \u001b[1;36m13.350\u001b[0m  \u001b[1;36m5.699434\u001b[0m  \u001b[1;36m0.0\u001b[0m  \u001b[1;36m10.00\u001b[0m  \u001b[1;36m14.0\u001b[0m  \u001b[1;36m17.0\u001b[0m  \u001b[1;36m34.0\u001b[0m"
      ]
     },
     "execution_count": 10,
     "metadata": {},
     "output_type": "execute_result"
    }
   ],
   "source": [
    "csv.groupby([\"Dataset\", \"MT\"])[\"NIHSS\"].describe()"
   ]
  },
  {
   "cell_type": "markdown",
   "id": "e3a48175",
   "metadata": {},
   "source": [
    "# LKWT distribution"
   ]
  },
  {
   "cell_type": "code",
   "execution_count": null,
   "id": "f0809829",
   "metadata": {},
   "outputs": [],
   "source": [
    "csv[\"LKWT < 6\"] = csv.LKWT < 6"
   ]
  },
  {
   "cell_type": "code",
   "execution_count": null,
   "id": "1c972c68",
   "metadata": {},
   "outputs": [
    {
     "data": {
      "text/html": [
       "<pre style=\"white-space:pre;overflow-x:auto;line-height:normal;font-family:Menlo,'DejaVu Sans Mono',consolas,'Courier New',monospace\"></pre>\n"
      ],
      "text/plain": []
     },
     "metadata": {},
     "output_type": "display_data"
    },
    {
     "data": {
      "text/plain": [
       "\n",
       "Dataset  LKWT < \u001b[1;36m6\u001b[0m\n",
       "test     \u001b[3;91mFalse\u001b[0m       \u001b[1;36m41\u001b[0m\n",
       "         \u001b[3;92mTrue\u001b[0m        \u001b[1;36m89\u001b[0m\n",
       "train    \u001b[3;91mFalse\u001b[0m       \u001b[1;36m56\u001b[0m\n",
       "         \u001b[3;92mTrue\u001b[0m        \u001b[1;36m74\u001b[0m\n",
       "Name: count, dtype: int64"
      ]
     },
     "execution_count": 12,
     "metadata": {},
     "output_type": "execute_result"
    }
   ],
   "source": [
    "csv[[\"Dataset\", \"LKWT < 6\"]].value_counts().sort_index()"
   ]
  },
  {
   "cell_type": "code",
   "execution_count": null,
   "id": "a0f552e2",
   "metadata": {},
   "outputs": [
    {
     "data": {
      "text/html": [
       "<pre style=\"white-space:pre;overflow-x:auto;line-height:normal;font-family:Menlo,'DejaVu Sans Mono',consolas,'Courier New',monospace\"></pre>\n"
      ],
      "text/plain": []
     },
     "metadata": {},
     "output_type": "display_data"
    },
    {
     "data": {
      "text/plain": [
       "\n",
       "Dataset  MT     LKWT < \u001b[1;36m6\u001b[0m\n",
       "test     \u001b[3;91mFalse\u001b[0m  \u001b[3;91mFalse\u001b[0m       \u001b[1;36m17\u001b[0m\n",
       "                \u001b[3;92mTrue\u001b[0m        \u001b[1;36m33\u001b[0m\n",
       "         \u001b[3;92mTrue\u001b[0m   \u001b[3;91mFalse\u001b[0m       \u001b[1;36m24\u001b[0m\n",
       "                \u001b[3;92mTrue\u001b[0m        \u001b[1;36m56\u001b[0m\n",
       "train    \u001b[3;91mFalse\u001b[0m  \u001b[3;91mFalse\u001b[0m       \u001b[1;36m21\u001b[0m\n",
       "                \u001b[3;92mTrue\u001b[0m        \u001b[1;36m29\u001b[0m\n",
       "         \u001b[3;92mTrue\u001b[0m   \u001b[3;91mFalse\u001b[0m       \u001b[1;36m35\u001b[0m\n",
       "                \u001b[3;92mTrue\u001b[0m        \u001b[1;36m45\u001b[0m\n",
       "Name: count, dtype: int64"
      ]
     },
     "execution_count": 13,
     "metadata": {},
     "output_type": "execute_result"
    }
   ],
   "source": [
    "csv[[\"Dataset\", \"MT\", \"LKWT < 6\"]].value_counts().sort_index()"
   ]
  },
  {
   "cell_type": "code",
   "execution_count": null,
   "id": "fdb0fd36",
   "metadata": {},
   "outputs": [],
   "source": []
  }
 ],
 "metadata": {
  "kernelspec": {
   "display_name": "env",
   "language": "python",
   "name": "python3"
  },
  "language_info": {
   "codemirror_mode": {
    "name": "ipython",
    "version": 3
   },
   "file_extension": ".py",
   "mimetype": "text/x-python",
   "name": "python",
   "nbconvert_exporter": "python",
   "pygments_lexer": "ipython3",
   "version": "3.11.11"
  }
 },
 "nbformat": 4,
 "nbformat_minor": 5
}
