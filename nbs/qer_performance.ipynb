{
 "cells": [
  {
   "cell_type": "code",
   "execution_count": 1,
   "id": "d5c25ff7",
   "metadata": {},
   "outputs": [],
   "source": [
    "from mt_eligibility.load import load_and_combine_csvs"
   ]
  },
  {
   "cell_type": "markdown",
   "id": "dbfe9f22",
   "metadata": {},
   "source": [
    "# Load data"
   ]
  },
  {
   "cell_type": "code",
   "execution_count": 2,
   "id": "d6076713",
   "metadata": {},
   "outputs": [
    {
     "data": {
      "text/html": [
       "<div>\n",
       "<style scoped>\n",
       "    .dataframe tbody tr th:only-of-type {\n",
       "        vertical-align: middle;\n",
       "    }\n",
       "\n",
       "    .dataframe tbody tr th {\n",
       "        vertical-align: top;\n",
       "    }\n",
       "\n",
       "    .dataframe thead th {\n",
       "        text-align: right;\n",
       "    }\n",
       "</style>\n",
       "<table border=\"1\" class=\"dataframe\">\n",
       "  <thead>\n",
       "    <tr style=\"text-align: right;\">\n",
       "      <th></th>\n",
       "      <th>ID</th>\n",
       "      <th>Age</th>\n",
       "      <th>Sex</th>\n",
       "      <th>NIHSS</th>\n",
       "      <th>LKWT</th>\n",
       "      <th>LVO</th>\n",
       "      <th>MT</th>\n",
       "      <th>qER Infarct Decision</th>\n",
       "      <th>qER Infarct Volume</th>\n",
       "      <th>qER ASPECTS</th>\n",
       "      <th>Rad1 Infarct</th>\n",
       "      <th>Rad2 Infarct</th>\n",
       "      <th>Rad3 Infarct</th>\n",
       "      <th>Rad4 Infarct</th>\n",
       "      <th>Dataset</th>\n",
       "    </tr>\n",
       "  </thead>\n",
       "  <tbody>\n",
       "    <tr>\n",
       "      <th>0</th>\n",
       "      <td>36aa9c237f40b8a3c78b0fc2d0efabc0</td>\n",
       "      <td>64</td>\n",
       "      <td>Male</td>\n",
       "      <td>14</td>\n",
       "      <td>0.900000</td>\n",
       "      <td>False</td>\n",
       "      <td>False</td>\n",
       "      <td>1</td>\n",
       "      <td>148.081945</td>\n",
       "      <td>1</td>\n",
       "      <td>True</td>\n",
       "      <td>True</td>\n",
       "      <td>False</td>\n",
       "      <td>False</td>\n",
       "      <td>train</td>\n",
       "    </tr>\n",
       "    <tr>\n",
       "      <th>1</th>\n",
       "      <td>0846f0aa92510261fc9a43753c9200e9</td>\n",
       "      <td>78</td>\n",
       "      <td>Female</td>\n",
       "      <td>5</td>\n",
       "      <td>4.550000</td>\n",
       "      <td>True</td>\n",
       "      <td>False</td>\n",
       "      <td>0</td>\n",
       "      <td>0.000000</td>\n",
       "      <td>10</td>\n",
       "      <td>False</td>\n",
       "      <td>False</td>\n",
       "      <td>False</td>\n",
       "      <td>False</td>\n",
       "      <td>train</td>\n",
       "    </tr>\n",
       "    <tr>\n",
       "      <th>2</th>\n",
       "      <td>a7d5017833ac10e3ce5e0c4200a10bb8</td>\n",
       "      <td>36</td>\n",
       "      <td>Female</td>\n",
       "      <td>6</td>\n",
       "      <td>3.033333</td>\n",
       "      <td>True</td>\n",
       "      <td>True</td>\n",
       "      <td>0</td>\n",
       "      <td>0.000000</td>\n",
       "      <td>10</td>\n",
       "      <td>False</td>\n",
       "      <td>False</td>\n",
       "      <td>False</td>\n",
       "      <td>False</td>\n",
       "      <td>train</td>\n",
       "    </tr>\n",
       "    <tr>\n",
       "      <th>3</th>\n",
       "      <td>87466cdef2e6832055c41559bcb059c4</td>\n",
       "      <td>105</td>\n",
       "      <td>Female</td>\n",
       "      <td>18</td>\n",
       "      <td>13.633333</td>\n",
       "      <td>True</td>\n",
       "      <td>False</td>\n",
       "      <td>0</td>\n",
       "      <td>0.000000</td>\n",
       "      <td>10</td>\n",
       "      <td>False</td>\n",
       "      <td>False</td>\n",
       "      <td>True</td>\n",
       "      <td>False</td>\n",
       "      <td>train</td>\n",
       "    </tr>\n",
       "    <tr>\n",
       "      <th>4</th>\n",
       "      <td>d8ee8882764de37287536521e6861577</td>\n",
       "      <td>93</td>\n",
       "      <td>Male</td>\n",
       "      <td>19</td>\n",
       "      <td>6.666667</td>\n",
       "      <td>True</td>\n",
       "      <td>True</td>\n",
       "      <td>0</td>\n",
       "      <td>0.000000</td>\n",
       "      <td>10</td>\n",
       "      <td>False</td>\n",
       "      <td>True</td>\n",
       "      <td>False</td>\n",
       "      <td>False</td>\n",
       "      <td>train</td>\n",
       "    </tr>\n",
       "  </tbody>\n",
       "</table>\n",
       "</div>"
      ],
      "text/plain": [
       "                                 ID  Age     Sex  NIHSS       LKWT    LVO  \\\n",
       "0  36aa9c237f40b8a3c78b0fc2d0efabc0   64    Male     14   0.900000  False   \n",
       "1  0846f0aa92510261fc9a43753c9200e9   78  Female      5   4.550000   True   \n",
       "2  a7d5017833ac10e3ce5e0c4200a10bb8   36  Female      6   3.033333   True   \n",
       "3  87466cdef2e6832055c41559bcb059c4  105  Female     18  13.633333   True   \n",
       "4  d8ee8882764de37287536521e6861577   93    Male     19   6.666667   True   \n",
       "\n",
       "      MT  qER Infarct Decision  qER Infarct Volume  qER ASPECTS  Rad1 Infarct  \\\n",
       "0  False                     1          148.081945            1          True   \n",
       "1  False                     0            0.000000           10         False   \n",
       "2   True                     0            0.000000           10         False   \n",
       "3  False                     0            0.000000           10         False   \n",
       "4   True                     0            0.000000           10         False   \n",
       "\n",
       "   Rad2 Infarct  Rad3 Infarct  Rad4 Infarct Dataset  \n",
       "0          True         False         False   train  \n",
       "1         False         False         False   train  \n",
       "2         False         False         False   train  \n",
       "3         False          True         False   train  \n",
       "4          True         False         False   train  "
      ]
     },
     "execution_count": 2,
     "metadata": {},
     "output_type": "execute_result"
    }
   ],
   "source": [
    "csv = load_and_combine_csvs()\n",
    "csv.head()"
   ]
  },
  {
   "cell_type": "markdown",
   "id": "a9396a2f",
   "metadata": {},
   "source": [
    "# Add new columns"
   ]
  },
  {
   "cell_type": "code",
   "execution_count": 3,
   "id": "82d99bab",
   "metadata": {},
   "outputs": [
    {
     "data": {
      "text/plain": [
       "Group\n",
       "LVO and MT eligible      160\n",
       "LVO but MT ineligible     30\n",
       "No LVO                    70\n",
       "Name: count, dtype: int64"
      ]
     },
     "execution_count": 3,
     "metadata": {},
     "output_type": "execute_result"
    }
   ],
   "source": [
    "csv[\"Group\"] = \"No LVO\"\n",
    "csv.loc[csv[\"LVO\"], \"Group\"] = \"LVO but MT ineligible\"\n",
    "csv.loc[csv[\"LVO\"] & csv[\"MT\"], \"Group\"] = \"LVO and MT eligible\"\n",
    "\n",
    "csv[\"Group\"].value_counts().sort_index()"
   ]
  },
  {
   "cell_type": "markdown",
   "id": "43851cd0",
   "metadata": {},
   "source": [
    "# Perform analysis"
   ]
  },
  {
   "cell_type": "markdown",
   "id": "67b9c286",
   "metadata": {},
   "source": [
    "### Counts"
   ]
  },
  {
   "cell_type": "code",
   "execution_count": 4,
   "id": "ca21b2ad",
   "metadata": {},
   "outputs": [
    {
     "data": {
      "text/plain": [
       "Group                  Rad1 Infarct\n",
       "LVO and MT eligible    False           147\n",
       "                       True             13\n",
       "LVO but MT ineligible  False            23\n",
       "                       True              7\n",
       "No LVO                 False            66\n",
       "                       True              4\n",
       "Name: count, dtype: int64"
      ]
     },
     "metadata": {},
     "output_type": "display_data"
    },
    {
     "data": {
      "text/plain": [
       "Group                  Rad2 Infarct\n",
       "LVO and MT eligible    False           126\n",
       "                       True             34\n",
       "LVO but MT ineligible  False            20\n",
       "                       True             10\n",
       "No LVO                 False            55\n",
       "                       True             15\n",
       "Name: count, dtype: int64"
      ]
     },
     "metadata": {},
     "output_type": "display_data"
    },
    {
     "data": {
      "text/plain": [
       "Group                  Rad3 Infarct\n",
       "LVO and MT eligible    False           150\n",
       "                       True             10\n",
       "LVO but MT ineligible  False            26\n",
       "                       True              4\n",
       "No LVO                 False            65\n",
       "                       True              5\n",
       "Name: count, dtype: int64"
      ]
     },
     "metadata": {},
     "output_type": "display_data"
    },
    {
     "data": {
      "text/plain": [
       "Group                  Rad4 Infarct\n",
       "LVO and MT eligible    False           152\n",
       "                       True              8\n",
       "LVO but MT ineligible  False            24\n",
       "                       True              6\n",
       "No LVO                 False            69\n",
       "                       True              1\n",
       "Name: count, dtype: int64"
      ]
     },
     "metadata": {},
     "output_type": "display_data"
    }
   ],
   "source": [
    "for i in range(1, 5):\n",
    "    display(csv[[\"Group\", f\"Rad{i} Infarct\"]].value_counts().sort_index())"
   ]
  },
  {
   "cell_type": "code",
   "execution_count": 5,
   "id": "45e12a0f",
   "metadata": {},
   "outputs": [
    {
     "data": {
      "text/plain": [
       "Group                  qER Infarct Decision\n",
       "LVO and MT eligible    0                       120\n",
       "                       1                        40\n",
       "LVO but MT ineligible  0                        12\n",
       "                       1                        18\n",
       "No LVO                 0                        60\n",
       "                       1                        10\n",
       "Name: count, dtype: int64"
      ]
     },
     "execution_count": 5,
     "metadata": {},
     "output_type": "execute_result"
    }
   ],
   "source": [
    "csv[[\"Group\", \"qER Infarct Decision\"]].value_counts().sort_index()"
   ]
  },
  {
   "cell_type": "code",
   "execution_count": null,
   "id": "ebe0d3ae",
   "metadata": {},
   "outputs": [],
   "source": []
  }
 ],
 "metadata": {
  "kernelspec": {
   "display_name": "adnan_study",
   "language": "python",
   "name": "python3"
  },
  "language_info": {
   "codemirror_mode": {
    "name": "ipython",
    "version": 3
   },
   "file_extension": ".py",
   "mimetype": "text/x-python",
   "name": "python",
   "nbconvert_exporter": "python",
   "pygments_lexer": "ipython3",
   "version": "3.11.13"
  }
 },
 "nbformat": 4,
 "nbformat_minor": 5
}
